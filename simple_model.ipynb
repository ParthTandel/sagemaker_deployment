{
 "cells": [
  {
   "cell_type": "code",
   "execution_count": 1,
   "metadata": {},
   "outputs": [],
   "source": [
    "import pandas as pd\n",
    "from nltk.tokenize import RegexpTokenizer\n",
    "from nltk.corpus import stopwords\n",
    "from sklearn.model_selection import train_test_split\n",
    "import seaborn as sns\n",
    "from sklearn.linear_model import LogisticRegression\n",
    "from sklearn.feature_extraction.text import TfidfVectorizer\n",
    "from sklearn.ensemble import RandomForestClassifier\n",
    "from sklearn.ensemble import GradientBoostingClassifier"
   ]
  },
  {
   "cell_type": "code",
   "execution_count": 2,
   "metadata": {},
   "outputs": [],
   "source": [
    "stop_words = stopwords.words('english')"
   ]
  },
  {
   "cell_type": "code",
   "execution_count": 3,
   "metadata": {},
   "outputs": [],
   "source": [
    "columns = [\"polarity\", \"tweet_id\", \"date\", \"query\", \"user_id\", \"tweet\" ]\n",
    "data = pd.read_csv(\"data/training.1600000.processed.noemoticon.csv\", \\\n",
    "                   header=None, names=columns , encoding=\"ISO-8859-1\")"
   ]
  },
  {
   "cell_type": "code",
   "execution_count": 4,
   "metadata": {},
   "outputs": [
    {
     "data": {
      "text/html": [
       "<div>\n",
       "<style scoped>\n",
       "    .dataframe tbody tr th:only-of-type {\n",
       "        vertical-align: middle;\n",
       "    }\n",
       "\n",
       "    .dataframe tbody tr th {\n",
       "        vertical-align: top;\n",
       "    }\n",
       "\n",
       "    .dataframe thead th {\n",
       "        text-align: right;\n",
       "    }\n",
       "</style>\n",
       "<table border=\"1\" class=\"dataframe\">\n",
       "  <thead>\n",
       "    <tr style=\"text-align: right;\">\n",
       "      <th></th>\n",
       "      <th>polarity</th>\n",
       "      <th>tweet_id</th>\n",
       "      <th>date</th>\n",
       "      <th>query</th>\n",
       "      <th>user_id</th>\n",
       "      <th>tweet</th>\n",
       "    </tr>\n",
       "  </thead>\n",
       "  <tbody>\n",
       "    <tr>\n",
       "      <th>0</th>\n",
       "      <td>0</td>\n",
       "      <td>1467810369</td>\n",
       "      <td>Mon Apr 06 22:19:45 PDT 2009</td>\n",
       "      <td>NO_QUERY</td>\n",
       "      <td>_TheSpecialOne_</td>\n",
       "      <td>@switchfoot http://twitpic.com/2y1zl - Awww, t...</td>\n",
       "    </tr>\n",
       "    <tr>\n",
       "      <th>1</th>\n",
       "      <td>0</td>\n",
       "      <td>1467810672</td>\n",
       "      <td>Mon Apr 06 22:19:49 PDT 2009</td>\n",
       "      <td>NO_QUERY</td>\n",
       "      <td>scotthamilton</td>\n",
       "      <td>is upset that he can't update his Facebook by ...</td>\n",
       "    </tr>\n",
       "    <tr>\n",
       "      <th>2</th>\n",
       "      <td>0</td>\n",
       "      <td>1467810917</td>\n",
       "      <td>Mon Apr 06 22:19:53 PDT 2009</td>\n",
       "      <td>NO_QUERY</td>\n",
       "      <td>mattycus</td>\n",
       "      <td>@Kenichan I dived many times for the ball. Man...</td>\n",
       "    </tr>\n",
       "    <tr>\n",
       "      <th>3</th>\n",
       "      <td>0</td>\n",
       "      <td>1467811184</td>\n",
       "      <td>Mon Apr 06 22:19:57 PDT 2009</td>\n",
       "      <td>NO_QUERY</td>\n",
       "      <td>ElleCTF</td>\n",
       "      <td>my whole body feels itchy and like its on fire</td>\n",
       "    </tr>\n",
       "    <tr>\n",
       "      <th>4</th>\n",
       "      <td>0</td>\n",
       "      <td>1467811193</td>\n",
       "      <td>Mon Apr 06 22:19:57 PDT 2009</td>\n",
       "      <td>NO_QUERY</td>\n",
       "      <td>Karoli</td>\n",
       "      <td>@nationwideclass no, it's not behaving at all....</td>\n",
       "    </tr>\n",
       "  </tbody>\n",
       "</table>\n",
       "</div>"
      ],
      "text/plain": [
       "   polarity    tweet_id                          date     query  \\\n",
       "0         0  1467810369  Mon Apr 06 22:19:45 PDT 2009  NO_QUERY   \n",
       "1         0  1467810672  Mon Apr 06 22:19:49 PDT 2009  NO_QUERY   \n",
       "2         0  1467810917  Mon Apr 06 22:19:53 PDT 2009  NO_QUERY   \n",
       "3         0  1467811184  Mon Apr 06 22:19:57 PDT 2009  NO_QUERY   \n",
       "4         0  1467811193  Mon Apr 06 22:19:57 PDT 2009  NO_QUERY   \n",
       "\n",
       "           user_id                                              tweet  \n",
       "0  _TheSpecialOne_  @switchfoot http://twitpic.com/2y1zl - Awww, t...  \n",
       "1    scotthamilton  is upset that he can't update his Facebook by ...  \n",
       "2         mattycus  @Kenichan I dived many times for the ball. Man...  \n",
       "3          ElleCTF    my whole body feels itchy and like its on fire   \n",
       "4           Karoli  @nationwideclass no, it's not behaving at all....  "
      ]
     },
     "execution_count": 4,
     "metadata": {},
     "output_type": "execute_result"
    }
   ],
   "source": [
    "data.head()"
   ]
  },
  {
   "cell_type": "code",
   "execution_count": 5,
   "metadata": {},
   "outputs": [
    {
     "data": {
      "text/plain": [
       "(1600000, 6)"
      ]
     },
     "execution_count": 5,
     "metadata": {},
     "output_type": "execute_result"
    }
   ],
   "source": [
    "# shuffle data for train validation test split \n",
    "data = data.sample(frac=1).reset_index(drop=True)\n",
    "data.shape"
   ]
  },
  {
   "cell_type": "code",
   "execution_count": 6,
   "metadata": {},
   "outputs": [],
   "source": [
    "train, test_val = train_test_split(data, test_size=0.20, random_state=42)\n",
    "del data"
   ]
  },
  {
   "cell_type": "code",
   "execution_count": 7,
   "metadata": {},
   "outputs": [],
   "source": [
    "test, val = train_test_split(test_val, test_size=0.50, random_state=42)\n",
    "del test_val"
   ]
  },
  {
   "cell_type": "code",
   "execution_count": 8,
   "metadata": {},
   "outputs": [
    {
     "data": {
      "text/plain": [
       "((1280000, 6), (160000, 6), (160000, 6))"
      ]
     },
     "execution_count": 8,
     "metadata": {},
     "output_type": "execute_result"
    }
   ],
   "source": [
    "train.shape, test.shape, val.shape"
   ]
  },
  {
   "cell_type": "code",
   "execution_count": 9,
   "metadata": {},
   "outputs": [
    {
     "data": {
      "text/plain": [
       "<seaborn.axisgrid.FacetGrid at 0x7fad0dcb7b00>"
      ]
     },
     "execution_count": 9,
     "metadata": {},
     "output_type": "execute_result"
    },
    {
     "data": {
      "image/png": "[encoded data removed]",
      "text/plain": [
       "<Figure size 360x360 with 1 Axes>"
      ]
     },
     "metadata": {
      "needs_background": "light"
     },
     "output_type": "display_data"
    }
   ],
   "source": [
    "sns.displot(train[\"polarity\"])"
   ]
  },
  {
   "cell_type": "code",
   "execution_count": 10,
   "metadata": {},
   "outputs": [
    {
     "data": {
      "text/plain": [
       "<seaborn.axisgrid.FacetGrid at 0x7fad267ec668>"
      ]
     },
     "execution_count": 10,
     "metadata": {},
     "output_type": "execute_result"
    },
    {
     "data": {
      "image/png": "[encoded data removed]",
      "text/plain": [
       "<Figure size 360x360 with 1 Axes>"
      ]
     },
     "metadata": {
      "needs_background": "light"
     },
     "output_type": "display_data"
    }
   ],
   "source": [
    "sns.displot(test[\"polarity\"])"
   ]
  },
  {
   "cell_type": "code",
   "execution_count": 11,
   "metadata": {},
   "outputs": [
    {
     "data": {
      "text/plain": [
       "<seaborn.axisgrid.FacetGrid at 0x7fad0dcb7438>"
      ]
     },
     "execution_count": 11,
     "metadata": {},
     "output_type": "execute_result"
    },
    {
     "data": {
      "image/png": "[encoded data removed]",
      "text/plain": [
       "<Figure size 360x360 with 1 Axes>"
      ]
     },
     "metadata": {
      "needs_background": "light"
     },
     "output_type": "display_data"
    }
   ],
   "source": [
    "sns.displot(val[\"polarity\"])"
   ]
  },
  {
   "cell_type": "markdown",
   "metadata": {},
   "source": [
    "# Note: \n",
    "This is very simple model I am not going to any crazy feature engineering. Only thing I am going to do is tfidf the tokens to features and train a simple model"
   ]
  },
  {
   "cell_type": "code",
   "execution_count": 12,
   "metadata": {},
   "outputs": [],
   "source": [
    "def preprocess(sentence, stop_words=stop_words):\n",
    "    sentence=str(sentence)\n",
    "    sentence = sentence.lower()\n",
    "    # remove non numeric and other tokens\n",
    "    tokenizer = RegexpTokenizer(r'\\w+')\n",
    "    tokens = tokenizer.tokenize(sentence)  \n",
    "    filtered_words = [w for w in tokens if len(w) > 2 if not w in stop_words]\n",
    "    return \" \".join(filtered_words)"
   ]
  },
  {
   "cell_type": "code",
   "execution_count": 13,
   "metadata": {},
   "outputs": [
    {
     "data": {
      "text/html": [
       "<div>\n",
       "<style scoped>\n",
       "    .dataframe tbody tr th:only-of-type {\n",
       "        vertical-align: middle;\n",
       "    }\n",
       "\n",
       "    .dataframe tbody tr th {\n",
       "        vertical-align: top;\n",
       "    }\n",
       "\n",
       "    .dataframe thead th {\n",
       "        text-align: right;\n",
       "    }\n",
       "</style>\n",
       "<table border=\"1\" class=\"dataframe\">\n",
       "  <thead>\n",
       "    <tr style=\"text-align: right;\">\n",
       "      <th></th>\n",
       "      <th>polarity</th>\n",
       "      <th>tweet_id</th>\n",
       "      <th>date</th>\n",
       "      <th>query</th>\n",
       "      <th>user_id</th>\n",
       "      <th>tweet</th>\n",
       "    </tr>\n",
       "  </thead>\n",
       "  <tbody>\n",
       "    <tr>\n",
       "      <th>1374558</th>\n",
       "      <td>0</td>\n",
       "      <td>2188994761</td>\n",
       "      <td>Mon Jun 15 23:00:39 PDT 2009</td>\n",
       "      <td>NO_QUERY</td>\n",
       "      <td>LuckyLibra101</td>\n",
       "      <td>wishing things would change.... tired of sleep...</td>\n",
       "    </tr>\n",
       "    <tr>\n",
       "      <th>1389115</th>\n",
       "      <td>0</td>\n",
       "      <td>1966575566</td>\n",
       "      <td>Fri May 29 18:01:06 PDT 2009</td>\n",
       "      <td>NO_QUERY</td>\n",
       "      <td>betsytownsend</td>\n",
       "      <td>My subway made me so sick I threw it all up</td>\n",
       "    </tr>\n",
       "    <tr>\n",
       "      <th>1137831</th>\n",
       "      <td>0</td>\n",
       "      <td>1978117502</td>\n",
       "      <td>Sat May 30 22:29:17 PDT 2009</td>\n",
       "      <td>NO_QUERY</td>\n",
       "      <td>NatalieCorona7</td>\n",
       "      <td>I feel forgotten  just by one person..</td>\n",
       "    </tr>\n",
       "    <tr>\n",
       "      <th>790714</th>\n",
       "      <td>0</td>\n",
       "      <td>2002620433</td>\n",
       "      <td>Tue Jun 02 04:43:47 PDT 2009</td>\n",
       "      <td>NO_QUERY</td>\n",
       "      <td>MarsGeek</td>\n",
       "      <td>@pato_30stm Im in agony..Sun burn is not good ...</td>\n",
       "    </tr>\n",
       "    <tr>\n",
       "      <th>1117911</th>\n",
       "      <td>0</td>\n",
       "      <td>1695337387</td>\n",
       "      <td>Mon May 04 05:52:55 PDT 2009</td>\n",
       "      <td>NO_QUERY</td>\n",
       "      <td>Mander787</td>\n",
       "      <td>hoping with all her might that the darkroom is...</td>\n",
       "    </tr>\n",
       "  </tbody>\n",
       "</table>\n",
       "</div>"
      ],
      "text/plain": [
       "         polarity    tweet_id                          date     query  \\\n",
       "1374558         0  2188994761  Mon Jun 15 23:00:39 PDT 2009  NO_QUERY   \n",
       "1389115         0  1966575566  Fri May 29 18:01:06 PDT 2009  NO_QUERY   \n",
       "1137831         0  1978117502  Sat May 30 22:29:17 PDT 2009  NO_QUERY   \n",
       "790714          0  2002620433  Tue Jun 02 04:43:47 PDT 2009  NO_QUERY   \n",
       "1117911         0  1695337387  Mon May 04 05:52:55 PDT 2009  NO_QUERY   \n",
       "\n",
       "                user_id                                              tweet  \n",
       "1374558   LuckyLibra101  wishing things would change.... tired of sleep...  \n",
       "1389115   betsytownsend       My subway made me so sick I threw it all up   \n",
       "1137831  NatalieCorona7             I feel forgotten  just by one person..  \n",
       "790714         MarsGeek  @pato_30stm Im in agony..Sun burn is not good ...  \n",
       "1117911       Mander787  hoping with all her might that the darkroom is...  "
      ]
     },
     "execution_count": 13,
     "metadata": {},
     "output_type": "execute_result"
    }
   ],
   "source": [
    "train.head(5)"
   ]
  },
  {
   "cell_type": "code",
   "execution_count": 14,
   "metadata": {},
   "outputs": [],
   "source": [
    "train[\"tweet_tokens\"] = train[\"tweet\"].apply(preprocess)"
   ]
  },
  {
   "cell_type": "code",
   "execution_count": 15,
   "metadata": {},
   "outputs": [
    {
     "data": {
      "text/html": [
       "<div>\n",
       "<style scoped>\n",
       "    .dataframe tbody tr th:only-of-type {\n",
       "        vertical-align: middle;\n",
       "    }\n",
       "\n",
       "    .dataframe tbody tr th {\n",
       "        vertical-align: top;\n",
       "    }\n",
       "\n",
       "    .dataframe thead th {\n",
       "        text-align: right;\n",
       "    }\n",
       "</style>\n",
       "<table border=\"1\" class=\"dataframe\">\n",
       "  <thead>\n",
       "    <tr style=\"text-align: right;\">\n",
       "      <th></th>\n",
       "      <th>polarity</th>\n",
       "      <th>tweet_id</th>\n",
       "      <th>date</th>\n",
       "      <th>query</th>\n",
       "      <th>user_id</th>\n",
       "      <th>tweet</th>\n",
       "      <th>tweet_tokens</th>\n",
       "    </tr>\n",
       "  </thead>\n",
       "  <tbody>\n",
       "    <tr>\n",
       "      <th>1374558</th>\n",
       "      <td>0</td>\n",
       "      <td>2188994761</td>\n",
       "      <td>Mon Jun 15 23:00:39 PDT 2009</td>\n",
       "      <td>NO_QUERY</td>\n",
       "      <td>LuckyLibra101</td>\n",
       "      <td>wishing things would change.... tired of sleep...</td>\n",
       "      <td>wishing things would change tired sleeping alo...</td>\n",
       "    </tr>\n",
       "    <tr>\n",
       "      <th>1389115</th>\n",
       "      <td>0</td>\n",
       "      <td>1966575566</td>\n",
       "      <td>Fri May 29 18:01:06 PDT 2009</td>\n",
       "      <td>NO_QUERY</td>\n",
       "      <td>betsytownsend</td>\n",
       "      <td>My subway made me so sick I threw it all up</td>\n",
       "      <td>subway made sick threw</td>\n",
       "    </tr>\n",
       "    <tr>\n",
       "      <th>1137831</th>\n",
       "      <td>0</td>\n",
       "      <td>1978117502</td>\n",
       "      <td>Sat May 30 22:29:17 PDT 2009</td>\n",
       "      <td>NO_QUERY</td>\n",
       "      <td>NatalieCorona7</td>\n",
       "      <td>I feel forgotten  just by one person..</td>\n",
       "      <td>feel forgotten one person</td>\n",
       "    </tr>\n",
       "    <tr>\n",
       "      <th>790714</th>\n",
       "      <td>0</td>\n",
       "      <td>2002620433</td>\n",
       "      <td>Tue Jun 02 04:43:47 PDT 2009</td>\n",
       "      <td>NO_QUERY</td>\n",
       "      <td>MarsGeek</td>\n",
       "      <td>@pato_30stm Im in agony..Sun burn is not good ...</td>\n",
       "      <td>pato_30stm agony sun burn good sliced foot bea...</td>\n",
       "    </tr>\n",
       "    <tr>\n",
       "      <th>1117911</th>\n",
       "      <td>0</td>\n",
       "      <td>1695337387</td>\n",
       "      <td>Mon May 04 05:52:55 PDT 2009</td>\n",
       "      <td>NO_QUERY</td>\n",
       "      <td>Mander787</td>\n",
       "      <td>hoping with all her might that the darkroom is...</td>\n",
       "      <td>hoping might darkroom flooded school could rui...</td>\n",
       "    </tr>\n",
       "  </tbody>\n",
       "</table>\n",
       "</div>"
      ],
      "text/plain": [
       "         polarity    tweet_id                          date     query  \\\n",
       "1374558         0  2188994761  Mon Jun 15 23:00:39 PDT 2009  NO_QUERY   \n",
       "1389115         0  1966575566  Fri May 29 18:01:06 PDT 2009  NO_QUERY   \n",
       "1137831         0  1978117502  Sat May 30 22:29:17 PDT 2009  NO_QUERY   \n",
       "790714          0  2002620433  Tue Jun 02 04:43:47 PDT 2009  NO_QUERY   \n",
       "1117911         0  1695337387  Mon May 04 05:52:55 PDT 2009  NO_QUERY   \n",
       "\n",
       "                user_id                                              tweet  \\\n",
       "1374558   LuckyLibra101  wishing things would change.... tired of sleep...   \n",
       "1389115   betsytownsend       My subway made me so sick I threw it all up    \n",
       "1137831  NatalieCorona7             I feel forgotten  just by one person..   \n",
       "790714         MarsGeek  @pato_30stm Im in agony..Sun burn is not good ...   \n",
       "1117911       Mander787  hoping with all her might that the darkroom is...   \n",
       "\n",
       "                                              tweet_tokens  \n",
       "1374558  wishing things would change tired sleeping alo...  \n",
       "1389115                             subway made sick threw  \n",
       "1137831                          feel forgotten one person  \n",
       "790714   pato_30stm agony sun burn good sliced foot bea...  \n",
       "1117911  hoping might darkroom flooded school could rui...  "
      ]
     },
     "execution_count": 15,
     "metadata": {},
     "output_type": "execute_result"
    }
   ],
   "source": [
    "train.head()"
   ]
  },
  {
   "cell_type": "code",
   "execution_count": 37,
   "metadata": {},
   "outputs": [],
   "source": [
    "vectorizer = TfidfVectorizer(stop_words=\"english\", max_df=0.9, max_features=25000, norm=\"l2\")\n",
    "train_X = vectorizer.fit_transform(train[\"tweet_tokens\"])\n"
   ]
  },
  {
   "cell_type": "code",
   "execution_count": 38,
   "metadata": {},
   "outputs": [],
   "source": [
    "train_Y = train[\"polarity\"]"
   ]
  },
  {
   "cell_type": "code",
   "execution_count": 39,
   "metadata": {},
   "outputs": [],
   "source": [
    "val[\"tweet_tokens\"] = val[\"tweet\"].apply(preprocess)\n",
    "val_X = vectorizer.transform(val[\"tweet_tokens\"])\n",
    "val_Y = val[\"polarity\"]"
   ]
  },
  {
   "cell_type": "code",
   "execution_count": 40,
   "metadata": {},
   "outputs": [],
   "source": [
    "test[\"tweet_tokens\"] = test[\"tweet\"].apply(preprocess)\n",
    "test_X = vectorizer.transform(test[\"tweet_tokens\"])\n",
    "test_Y = test[\"polarity\"]"
   ]
  },
  {
   "cell_type": "code",
   "execution_count": 41,
   "metadata": {},
   "outputs": [],
   "source": [
    "clf = LogisticRegression(random_state=0, max_iter=1000).fit(train_X, train_Y)"
   ]
  },
  {
   "cell_type": "code",
   "execution_count": 42,
   "metadata": {},
   "outputs": [
    {
     "data": {
      "text/plain": [
       "(0.78215859375, 0.7721125)"
      ]
     },
     "execution_count": 42,
     "metadata": {},
     "output_type": "execute_result"
    }
   ],
   "source": [
    "clf.score(train_X, train_Y), clf.score(val_X, val_Y)"
   ]
  },
  {
   "cell_type": "code",
   "execution_count": 43,
   "metadata": {},
   "outputs": [
    {
     "data": {
      "text/plain": [
       "0.77276875"
      ]
     },
     "execution_count": 43,
     "metadata": {},
     "output_type": "execute_result"
    }
   ],
   "source": [
    "clf.score(test_X, test_Y)"
   ]
  },
  {
   "cell_type": "code",
   "execution_count": null,
   "metadata": {},
   "outputs": [],
   "source": []
  }
 ],
 "metadata": {
  "kernelspec": {
   "display_name": "Python 3",
   "language": "python",
   "name": "python3"
  },
  "language_info": {
   "codemirror_mode": {
    "name": "ipython",
    "version": 3
   },
   "file_extension": ".py",
   "mimetype": "text/x-python",
   "name": "python",
   "nbconvert_exporter": "python",
   "pygments_lexer": "ipython3",
   "version": "3.6.8"
  }
 },
 "nbformat": 4,
 "nbformat_minor": 5
}
