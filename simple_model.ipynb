{
 "cells": [
  {
   "cell_type": "code",
   "execution_count": 1,
   "metadata": {},
   "outputs": [],
   "source": [
    "import pandas as pd\n",
    "from nltk.tokenize import RegexpTokenizer\n",
    "from nltk.corpus import stopwords\n",
    "from sklearn.model_selection import train_test_split\n",
    "import seaborn as sns\n",
    "from sklearn.linear_model import LogisticRegression\n",
    "from sklearn.feature_extraction.text import TfidfVectorizer\n",
    "from sklearn.ensemble import RandomForestClassifier\n",
    "from sklearn.ensemble import GradientBoostingClassifier"
   ]
  },
  {
   "cell_type": "code",
   "execution_count": 2,
   "metadata": {},
   "outputs": [],
   "source": [
    "stop_words = stopwords.words('english')"
   ]
  },
  {
   "cell_type": "code",
   "execution_count": 3,
   "metadata": {},
   "outputs": [],
   "source": [
    "columns = [\"polarity\", \"tweet_id\", \"date\", \"query\", \"user_id\", \"tweet\" ]\n",
    "data = pd.read_csv(\"data/training.1600000.processed.noemoticon.csv\", \\\n",
    "                   header=None, names=columns , encoding=\"ISO-8859-1\")"
   ]
  },
  {
   "cell_type": "code",
   "execution_count": 4,
   "metadata": {},
   "outputs": [
    {
     "data": {
      "text/html": [
       "<div>\n",
       "<style scoped>\n",
       "    .dataframe tbody tr th:only-of-type {\n",
       "        vertical-align: middle;\n",
       "    }\n",
       "\n",
       "    .dataframe tbody tr th {\n",
       "        vertical-align: top;\n",
       "    }\n",
       "\n",
       "    .dataframe thead th {\n",
       "        text-align: right;\n",
       "    }\n",
       "</style>\n",
       "<table border=\"1\" class=\"dataframe\">\n",
       "  <thead>\n",
       "    <tr style=\"text-align: right;\">\n",
       "      <th></th>\n",
       "      <th>polarity</th>\n",
       "      <th>tweet_id</th>\n",
       "      <th>date</th>\n",
       "      <th>query</th>\n",
       "      <th>user_id</th>\n",
       "      <th>tweet</th>\n",
       "    </tr>\n",
       "  </thead>\n",
       "  <tbody>\n",
       "    <tr>\n",
       "      <th>0</th>\n",
       "      <td>0</td>\n",
       "      <td>1467810369</td>\n",
       "      <td>Mon Apr 06 22:19:45 PDT 2009</td>\n",
       "      <td>NO_QUERY</td>\n",
       "      <td>_TheSpecialOne_</td>\n",
       "      <td>@switchfoot http://twitpic.com/2y1zl - Awww, t...</td>\n",
       "    </tr>\n",
       "    <tr>\n",
       "      <th>1</th>\n",
       "      <td>0</td>\n",
       "      <td>1467810672</td>\n",
       "      <td>Mon Apr 06 22:19:49 PDT 2009</td>\n",
       "      <td>NO_QUERY</td>\n",
       "      <td>scotthamilton</td>\n",
       "      <td>is upset that he can't update his Facebook by ...</td>\n",
       "    </tr>\n",
       "    <tr>\n",
       "      <th>2</th>\n",
       "      <td>0</td>\n",
       "      <td>1467810917</td>\n",
       "      <td>Mon Apr 06 22:19:53 PDT 2009</td>\n",
       "      <td>NO_QUERY</td>\n",
       "      <td>mattycus</td>\n",
       "      <td>@Kenichan I dived many times for the ball. Man...</td>\n",
       "    </tr>\n",
       "    <tr>\n",
       "      <th>3</th>\n",
       "      <td>0</td>\n",
       "      <td>1467811184</td>\n",
       "      <td>Mon Apr 06 22:19:57 PDT 2009</td>\n",
       "      <td>NO_QUERY</td>\n",
       "      <td>ElleCTF</td>\n",
       "      <td>my whole body feels itchy and like its on fire</td>\n",
       "    </tr>\n",
       "    <tr>\n",
       "      <th>4</th>\n",
       "      <td>0</td>\n",
       "      <td>1467811193</td>\n",
       "      <td>Mon Apr 06 22:19:57 PDT 2009</td>\n",
       "      <td>NO_QUERY</td>\n",
       "      <td>Karoli</td>\n",
       "      <td>@nationwideclass no, it's not behaving at all....</td>\n",
       "    </tr>\n",
       "  </tbody>\n",
       "</table>\n",
       "</div>"
      ],
      "text/plain": [
       "   polarity    tweet_id                          date     query  \\\n",
       "0         0  1467810369  Mon Apr 06 22:19:45 PDT 2009  NO_QUERY   \n",
       "1         0  1467810672  Mon Apr 06 22:19:49 PDT 2009  NO_QUERY   \n",
       "2         0  1467810917  Mon Apr 06 22:19:53 PDT 2009  NO_QUERY   \n",
       "3         0  1467811184  Mon Apr 06 22:19:57 PDT 2009  NO_QUERY   \n",
       "4         0  1467811193  Mon Apr 06 22:19:57 PDT 2009  NO_QUERY   \n",
       "\n",
       "           user_id                                              tweet  \n",
       "0  _TheSpecialOne_  @switchfoot http://twitpic.com/2y1zl - Awww, t...  \n",
       "1    scotthamilton  is upset that he can't update his Facebook by ...  \n",
       "2         mattycus  @Kenichan I dived many times for the ball. Man...  \n",
       "3          ElleCTF    my whole body feels itchy and like its on fire   \n",
       "4           Karoli  @nationwideclass no, it's not behaving at all....  "
      ]
     },
     "execution_count": 4,
     "metadata": {},
     "output_type": "execute_result"
    }
   ],
   "source": [
    "data.head()"
   ]
  },
  {
   "cell_type": "code",
   "execution_count": 5,
   "metadata": {},
   "outputs": [
    {
     "data": {
      "text/plain": [
       "(1600000, 6)"
      ]
     },
     "execution_count": 5,
     "metadata": {},
     "output_type": "execute_result"
    }
   ],
   "source": [
    "# shuffle data for train validation test split \n",
    "data = data.sample(frac=1).reset_index(drop=True)\n",
    "data.shape"
   ]
  },
  {
   "cell_type": "code",
   "execution_count": 6,
   "metadata": {},
   "outputs": [],
   "source": [
    "train, test_val = train_test_split(data, test_size=0.20, random_state=42)\n",
    "del data"
   ]
  },
  {
   "cell_type": "code",
   "execution_count": 7,
   "metadata": {},
   "outputs": [],
   "source": [
    "test, val = train_test_split(test_val, test_size=0.50, random_state=42)\n",
    "del test_val"
   ]
  },
  {
   "cell_type": "code",
   "execution_count": 8,
   "metadata": {},
   "outputs": [
    {
     "data": {
      "text/plain": [
       "((1280000, 6), (160000, 6), (160000, 6))"
      ]
     },
     "execution_count": 8,
     "metadata": {},
     "output_type": "execute_result"
    }
   ],
   "source": [
    "train.shape, test.shape, val.shape"
   ]
  },
  {
   "cell_type": "code",
   "execution_count": 9,
   "metadata": {},
   "outputs": [
    {
     "data": {
      "text/plain": [
       "<seaborn.axisgrid.FacetGrid at 0x7fb5991cb8d0>"
      ]
     },
     "execution_count": 9,
     "metadata": {},
     "output_type": "execute_result"
    },
    {
     "data": {
      "image/png": "[encoded data removed]",
      "text/plain": [
       "<Figure size 360x360 with 1 Axes>"
      ]
     },
     "metadata": {
      "needs_background": "light"
     },
     "output_type": "display_data"
    }
   ],
   "source": [
    "sns.displot(train[\"polarity\"])"
   ]
  },
  {
   "cell_type": "code",
   "execution_count": 10,
   "metadata": {},
   "outputs": [
    {
     "data": {
      "text/plain": [
       "<seaborn.axisgrid.FacetGrid at 0x7fb5b1d4c5f8>"
      ]
     },
     "execution_count": 10,
     "metadata": {},
     "output_type": "execute_result"
    },
    {
     "data": {
      "image/png": "[encoded data removed]",
      "text/plain": [
       "<Figure size 360x360 with 1 Axes>"
      ]
     },
     "metadata": {
      "needs_background": "light"
     },
     "output_type": "display_data"
    }
   ],
   "source": [
    "sns.displot(test[\"polarity\"])"
   ]
  },
  {
   "cell_type": "code",
   "execution_count": 11,
   "metadata": {},
   "outputs": [
    {
     "data": {
      "text/plain": [
       "<seaborn.axisgrid.FacetGrid at 0x7fb610f6d940>"
      ]
     },
     "execution_count": 11,
     "metadata": {},
     "output_type": "execute_result"
    },
    {
     "data": {
      "image/png": "[encoded data removed]",
      "text/plain": [
       "<Figure size 360x360 with 1 Axes>"
      ]
     },
     "metadata": {
      "needs_background": "light"
     },
     "output_type": "display_data"
    }
   ],
   "source": [
    "sns.displot(val[\"polarity\"])"
   ]
  },
  {
   "cell_type": "markdown",
   "metadata": {},
   "source": [
    "# Note: \n",
    "This is very simple model I am not going to any crazy feature engineering. Only thing I am going to do is tfidf the tokens to features and train a simple model"
   ]
  },
  {
   "cell_type": "code",
   "execution_count": 12,
   "metadata": {},
   "outputs": [],
   "source": [
    "def preprocess(sentence, stop_words=stop_words):\n",
    "    sentence=str(sentence)\n",
    "    sentence = sentence.lower()\n",
    "    # remove non numeric and other tokens\n",
    "    tokenizer = RegexpTokenizer(r'\\w+')\n",
    "    tokens = tokenizer.tokenize(sentence)  \n",
    "    filtered_words = [w for w in tokens if len(w) > 2 if not w in stop_words]\n",
    "    return \" \".join(filtered_words)"
   ]
  },
  {
   "cell_type": "code",
   "execution_count": 13,
   "metadata": {},
   "outputs": [
    {
     "data": {
      "text/html": [
       "<div>\n",
       "<style scoped>\n",
       "    .dataframe tbody tr th:only-of-type {\n",
       "        vertical-align: middle;\n",
       "    }\n",
       "\n",
       "    .dataframe tbody tr th {\n",
       "        vertical-align: top;\n",
       "    }\n",
       "\n",
       "    .dataframe thead th {\n",
       "        text-align: right;\n",
       "    }\n",
       "</style>\n",
       "<table border=\"1\" class=\"dataframe\">\n",
       "  <thead>\n",
       "    <tr style=\"text-align: right;\">\n",
       "      <th></th>\n",
       "      <th>polarity</th>\n",
       "      <th>tweet_id</th>\n",
       "      <th>date</th>\n",
       "      <th>query</th>\n",
       "      <th>user_id</th>\n",
       "      <th>tweet</th>\n",
       "    </tr>\n",
       "  </thead>\n",
       "  <tbody>\n",
       "    <tr>\n",
       "      <th>1374558</th>\n",
       "      <td>4</td>\n",
       "      <td>1833791743</td>\n",
       "      <td>Mon May 18 00:28:33 PDT 2009</td>\n",
       "      <td>NO_QUERY</td>\n",
       "      <td>ConsBarcebal</td>\n",
       "      <td>Second, I was sick yesterday so I took my rest.</td>\n",
       "    </tr>\n",
       "    <tr>\n",
       "      <th>1389115</th>\n",
       "      <td>4</td>\n",
       "      <td>2183915354</td>\n",
       "      <td>Mon Jun 15 15:09:37 PDT 2009</td>\n",
       "      <td>NO_QUERY</td>\n",
       "      <td>tweeteradder2</td>\n",
       "      <td>@ruru777 Get 100 followers a day using www.twe...</td>\n",
       "    </tr>\n",
       "    <tr>\n",
       "      <th>1137831</th>\n",
       "      <td>4</td>\n",
       "      <td>1824842676</td>\n",
       "      <td>Sun May 17 03:10:55 PDT 2009</td>\n",
       "      <td>NO_QUERY</td>\n",
       "      <td>CycleHaiku</td>\n",
       "      <td>Senryu: Saddle soaked with rain.  Looks like I...</td>\n",
       "    </tr>\n",
       "    <tr>\n",
       "      <th>790714</th>\n",
       "      <td>0</td>\n",
       "      <td>2195383368</td>\n",
       "      <td>Tue Jun 16 11:03:26 PDT 2009</td>\n",
       "      <td>NO_QUERY</td>\n",
       "      <td>immature</td>\n",
       "      <td>@purityring check obnoxious  and sign on in li...</td>\n",
       "    </tr>\n",
       "    <tr>\n",
       "      <th>1117911</th>\n",
       "      <td>4</td>\n",
       "      <td>2068332361</td>\n",
       "      <td>Sun Jun 07 13:54:13 PDT 2009</td>\n",
       "      <td>NO_QUERY</td>\n",
       "      <td>mrceder</td>\n",
       "      <td>@juliablue Hahaha...umm thanks. My tweets shou...</td>\n",
       "    </tr>\n",
       "  </tbody>\n",
       "</table>\n",
       "</div>"
      ],
      "text/plain": [
       "         polarity    tweet_id                          date     query  \\\n",
       "1374558         4  1833791743  Mon May 18 00:28:33 PDT 2009  NO_QUERY   \n",
       "1389115         4  2183915354  Mon Jun 15 15:09:37 PDT 2009  NO_QUERY   \n",
       "1137831         4  1824842676  Sun May 17 03:10:55 PDT 2009  NO_QUERY   \n",
       "790714          0  2195383368  Tue Jun 16 11:03:26 PDT 2009  NO_QUERY   \n",
       "1117911         4  2068332361  Sun Jun 07 13:54:13 PDT 2009  NO_QUERY   \n",
       "\n",
       "               user_id                                              tweet  \n",
       "1374558   ConsBarcebal   Second, I was sick yesterday so I took my rest.   \n",
       "1389115  tweeteradder2  @ruru777 Get 100 followers a day using www.twe...  \n",
       "1137831     CycleHaiku  Senryu: Saddle soaked with rain.  Looks like I...  \n",
       "790714        immature  @purityring check obnoxious  and sign on in li...  \n",
       "1117911        mrceder  @juliablue Hahaha...umm thanks. My tweets shou...  "
      ]
     },
     "execution_count": 13,
     "metadata": {},
     "output_type": "execute_result"
    }
   ],
   "source": [
    "train.head(5)"
   ]
  },
  {
   "cell_type": "code",
   "execution_count": 14,
   "metadata": {},
   "outputs": [],
   "source": [
    "train[\"tweet_tokens\"] = train[\"tweet\"].apply(preprocess)"
   ]
  },
  {
   "cell_type": "code",
   "execution_count": 15,
   "metadata": {},
   "outputs": [
    {
     "data": {
      "text/html": [
       "<div>\n",
       "<style scoped>\n",
       "    .dataframe tbody tr th:only-of-type {\n",
       "        vertical-align: middle;\n",
       "    }\n",
       "\n",
       "    .dataframe tbody tr th {\n",
       "        vertical-align: top;\n",
       "    }\n",
       "\n",
       "    .dataframe thead th {\n",
       "        text-align: right;\n",
       "    }\n",
       "</style>\n",
       "<table border=\"1\" class=\"dataframe\">\n",
       "  <thead>\n",
       "    <tr style=\"text-align: right;\">\n",
       "      <th></th>\n",
       "      <th>polarity</th>\n",
       "      <th>tweet_id</th>\n",
       "      <th>date</th>\n",
       "      <th>query</th>\n",
       "      <th>user_id</th>\n",
       "      <th>tweet</th>\n",
       "      <th>tweet_tokens</th>\n",
       "    </tr>\n",
       "  </thead>\n",
       "  <tbody>\n",
       "    <tr>\n",
       "      <th>1374558</th>\n",
       "      <td>4</td>\n",
       "      <td>1833791743</td>\n",
       "      <td>Mon May 18 00:28:33 PDT 2009</td>\n",
       "      <td>NO_QUERY</td>\n",
       "      <td>ConsBarcebal</td>\n",
       "      <td>Second, I was sick yesterday so I took my rest.</td>\n",
       "      <td>second sick yesterday took rest</td>\n",
       "    </tr>\n",
       "    <tr>\n",
       "      <th>1389115</th>\n",
       "      <td>4</td>\n",
       "      <td>2183915354</td>\n",
       "      <td>Mon Jun 15 15:09:37 PDT 2009</td>\n",
       "      <td>NO_QUERY</td>\n",
       "      <td>tweeteradder2</td>\n",
       "      <td>@ruru777 Get 100 followers a day using www.twe...</td>\n",
       "      <td>ruru777 get 100 followers day using www tweete...</td>\n",
       "    </tr>\n",
       "    <tr>\n",
       "      <th>1137831</th>\n",
       "      <td>4</td>\n",
       "      <td>1824842676</td>\n",
       "      <td>Sun May 17 03:10:55 PDT 2009</td>\n",
       "      <td>NO_QUERY</td>\n",
       "      <td>CycleHaiku</td>\n",
       "      <td>Senryu: Saddle soaked with rain.  Looks like I...</td>\n",
       "      <td>senryu saddle soaked rain looks like wet glamo...</td>\n",
       "    </tr>\n",
       "    <tr>\n",
       "      <th>790714</th>\n",
       "      <td>0</td>\n",
       "      <td>2195383368</td>\n",
       "      <td>Tue Jun 16 11:03:26 PDT 2009</td>\n",
       "      <td>NO_QUERY</td>\n",
       "      <td>immature</td>\n",
       "      <td>@purityring check obnoxious  and sign on in li...</td>\n",
       "      <td>purityring check obnoxious sign like hours cau...</td>\n",
       "    </tr>\n",
       "    <tr>\n",
       "      <th>1117911</th>\n",
       "      <td>4</td>\n",
       "      <td>2068332361</td>\n",
       "      <td>Sun Jun 07 13:54:13 PDT 2009</td>\n",
       "      <td>NO_QUERY</td>\n",
       "      <td>mrceder</td>\n",
       "      <td>@juliablue Hahaha...umm thanks. My tweets shou...</td>\n",
       "      <td>juliablue hahaha umm thanks tweets could reali...</td>\n",
       "    </tr>\n",
       "  </tbody>\n",
       "</table>\n",
       "</div>"
      ],
      "text/plain": [
       "         polarity    tweet_id                          date     query  \\\n",
       "1374558         4  1833791743  Mon May 18 00:28:33 PDT 2009  NO_QUERY   \n",
       "1389115         4  2183915354  Mon Jun 15 15:09:37 PDT 2009  NO_QUERY   \n",
       "1137831         4  1824842676  Sun May 17 03:10:55 PDT 2009  NO_QUERY   \n",
       "790714          0  2195383368  Tue Jun 16 11:03:26 PDT 2009  NO_QUERY   \n",
       "1117911         4  2068332361  Sun Jun 07 13:54:13 PDT 2009  NO_QUERY   \n",
       "\n",
       "               user_id                                              tweet  \\\n",
       "1374558   ConsBarcebal   Second, I was sick yesterday so I took my rest.    \n",
       "1389115  tweeteradder2  @ruru777 Get 100 followers a day using www.twe...   \n",
       "1137831     CycleHaiku  Senryu: Saddle soaked with rain.  Looks like I...   \n",
       "790714        immature  @purityring check obnoxious  and sign on in li...   \n",
       "1117911        mrceder  @juliablue Hahaha...umm thanks. My tweets shou...   \n",
       "\n",
       "                                              tweet_tokens  \n",
       "1374558                    second sick yesterday took rest  \n",
       "1389115  ruru777 get 100 followers day using www tweete...  \n",
       "1137831  senryu saddle soaked rain looks like wet glamo...  \n",
       "790714   purityring check obnoxious sign like hours cau...  \n",
       "1117911  juliablue hahaha umm thanks tweets could reali...  "
      ]
     },
     "execution_count": 15,
     "metadata": {},
     "output_type": "execute_result"
    }
   ],
   "source": [
    "train.head()"
   ]
  },
  {
   "cell_type": "code",
   "execution_count": 16,
   "metadata": {},
   "outputs": [],
   "source": [
    "vectorizer = TfidfVectorizer(stop_words=\"english\", max_df=0.9, max_features=25000, norm=\"l2\")\n",
    "train_X = vectorizer.fit_transform(train[\"tweet_tokens\"])\n"
   ]
  },
  {
   "cell_type": "code",
   "execution_count": 17,
   "metadata": {},
   "outputs": [],
   "source": [
    "train_Y = train[\"polarity\"]"
   ]
  },
  {
   "cell_type": "code",
   "execution_count": 18,
   "metadata": {},
   "outputs": [],
   "source": [
    "val[\"tweet_tokens\"] = val[\"tweet\"].apply(preprocess)\n",
    "val_X = vectorizer.transform(val[\"tweet_tokens\"])\n",
    "val_Y = val[\"polarity\"]"
   ]
  },
  {
   "cell_type": "code",
   "execution_count": 19,
   "metadata": {},
   "outputs": [],
   "source": [
    "test[\"tweet_tokens\"] = test[\"tweet\"].apply(preprocess)\n",
    "test_X = vectorizer.transform(test[\"tweet_tokens\"])\n",
    "test_Y = test[\"polarity\"]"
   ]
  },
  {
   "cell_type": "code",
   "execution_count": 20,
   "metadata": {},
   "outputs": [],
   "source": [
    "clf = LogisticRegression(random_state=0, max_iter=1000).fit(train_X, train_Y)"
   ]
  },
  {
   "cell_type": "code",
   "execution_count": 21,
   "metadata": {},
   "outputs": [
    {
     "data": {
      "text/plain": [
       "(0.78231796875, 0.77355)"
      ]
     },
     "execution_count": 21,
     "metadata": {},
     "output_type": "execute_result"
    }
   ],
   "source": [
    "clf.score(train_X, train_Y), clf.score(val_X, val_Y)"
   ]
  },
  {
   "cell_type": "code",
   "execution_count": 22,
   "metadata": {},
   "outputs": [
    {
     "data": {
      "text/plain": [
       "0.77065625"
      ]
     },
     "execution_count": 22,
     "metadata": {},
     "output_type": "execute_result"
    }
   ],
   "source": [
    "clf.score(test_X, test_Y)"
   ]
  },
  {
   "cell_type": "code",
   "execution_count": 23,
   "metadata": {},
   "outputs": [
    {
     "data": {
      "text/plain": [
       "(1280000, 25000)"
      ]
     },
     "execution_count": 23,
     "metadata": {},
     "output_type": "execute_result"
    }
   ],
   "source": [
    "train_X.shape"
   ]
  },
  {
   "cell_type": "code",
   "execution_count": null,
   "metadata": {},
   "outputs": [],
   "source": []
  }
 ],
 "metadata": {
  "kernelspec": {
   "display_name": "Python 3",
   "language": "python",
   "name": "python3"
  },
  "language_info": {
   "codemirror_mode": {
    "name": "ipython",
    "version": 3
   },
   "file_extension": ".py",
   "mimetype": "text/x-python",
   "name": "python",
   "nbconvert_exporter": "python",
   "pygments_lexer": "ipython3",
   "version": "3.6.8"
  }
 },
 "nbformat": 4,
 "nbformat_minor": 5
}
